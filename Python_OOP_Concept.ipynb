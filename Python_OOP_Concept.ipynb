{
  "nbformat": 4,
  "nbformat_minor": 0,
  "metadata": {
    "colab": {
      "provenance": [],
      "include_colab_link": true
    },
    "kernelspec": {
      "name": "python3",
      "display_name": "Python 3"
    }
  },
  "cells": [
    {
      "cell_type": "markdown",
      "metadata": {
        "id": "view-in-github",
        "colab_type": "text"
      },
      "source": [
        "<a href=\"https://colab.research.google.com/github/lorettarehm/AIML/blob/main/Python_OOP_Concept.ipynb\" target=\"_parent\"><img src=\"https://colab.research.google.com/assets/colab-badge.svg\" alt=\"Open In Colab\"/></a>"
      ]
    },
    {
      "cell_type": "markdown",
      "metadata": {
        "id": "axTk5O6yPH7s"
      },
      "source": [
        "An object-oriented paradigm is to design the program using classes and objects. The object is related to real-word entities such as book, house, pencil, etc. The oops concept focuses on writing the reusable code. It is a widespread technique to solve the problem by creating objects.\n",
        "Major principles of object-oriented programming system are given below.\n",
        "\n",
        "\n",
        ">\n",
        "\n",
        "\n",
        "\n",
        "*   Class\n",
        "*   Object\n",
        "*   Method\n",
        "*   Inheritance\n",
        "*   Polymorphism\n",
        "*   Data Abstraction\n",
        "*   Encapsulation\n",
        "\n"
      ]
    },
    {
      "cell_type": "markdown",
      "metadata": {
        "id": "RExWeaPaQN8k"
      },
      "source": [
        "##Class##\n"
      ]
    },
    {
      "cell_type": "markdown",
      "metadata": {
        "id": "UwHbv9XmQaZQ"
      },
      "source": [
        "The class can be defined as a collection of objects. It is a logical entity that has some specific attributes and methods. For example: if you have an employee class, then it should contain an attribute and method, i.e. an email id, name, age, salary, etc.so a class is a virtual entity and can be seen as a blueprint of an object. The class came into existence when it instantiated.\n",
        " we can create as many objects of this class.\n",
        "\n",
        "\n"
      ]
    },
    {
      "cell_type": "markdown",
      "metadata": {
        "id": "RaAb44pGRfMJ"
      },
      "source": [
        "**Syntax**\n",
        "\n",
        "\n",
        "```\n",
        "class ClassName:     \n",
        "        <statement-1>     \n",
        "        .  \n",
        "        .      \n",
        "        <statement-N>\n",
        "```\n",
        "\n",
        "\n"
      ]
    },
    {
      "cell_type": "code",
      "metadata": {
        "id": "hR_tM3XGU2jU"
      },
      "source": [
        "#Example\n",
        "class Student:\n",
        "    id = 10\n",
        "    name = \"Balwant\"\n",
        "    def display (self):\n",
        "        print(self.id,self.name)"
      ],
      "execution_count": null,
      "outputs": []
    },
    {
      "cell_type": "markdown",
      "metadata": {
        "id": "65b0YZw0R3BS"
      },
      "source": [
        "# **Object**"
      ]
    },
    {
      "cell_type": "markdown",
      "metadata": {
        "id": "L88AWViISEew"
      },
      "source": [
        "The object is the instance of a class. The process of creating an object can be called instantiation.\n",
        "the object is an entity that has state and behavior. It may be any real-world object like the house, bike, chair, table, pen, etc.\n",
        "\n",
        "Everything in Python is an object, and almost everything has attributes and methods. All functions have a built-in attribute __doc__, which returns the docstring defined in the function source code.\n",
        "\n",
        "When we define a class, it needs to create an object to allocate the memory. Consider the following example."
      ]
    },
    {
      "cell_type": "code",
      "metadata": {
        "id": "bYSZ_mRaSOM8",
        "colab": {
          "base_uri": "https://localhost:8080/"
        },
        "outputId": "163c708d-3f66-46e7-fab4-4bd925e04f49"
      },
      "source": [
        "class book:\n",
        "    def __init__(self,name, price):\n",
        "        self.name = name\n",
        "        self.price = price\n",
        "    def display(self):\n",
        "        print(self.name,self.price)\n",
        "\n",
        "b1 = book(\"Machine-Learning\", 2020)\n",
        "b1.display()"
      ],
      "execution_count": null,
      "outputs": [
        {
          "output_type": "stream",
          "name": "stdout",
          "text": [
            "Machine-Learning 2020\n"
          ]
        }
      ]
    },
    {
      "cell_type": "markdown",
      "metadata": {
        "id": "-H4ZRnjyVkEP"
      },
      "source": [
        "Here, the **self** is used as a reference variable, which refers to the current class object. It is always the first argument in the function definition. However, using **self** is optional in the function call."
      ]
    },
    {
      "cell_type": "markdown",
      "metadata": {
        "id": "nxrxEh-7V0gR"
      },
      "source": [
        "**The self-parameter**"
      ]
    },
    {
      "cell_type": "markdown",
      "metadata": {
        "id": "2hl7vj0vcQRV"
      },
      "source": [
        "The self-parameter refers to the current instance of the class and accesses the class variables. We can use anything instead of self, but it must be the first parameter of any function which belongs to the class."
      ]
    },
    {
      "cell_type": "markdown",
      "metadata": {
        "id": "9vVELGOIcUTV"
      },
      "source": [
        "**Creating an instance of the class**"
      ]
    },
    {
      "cell_type": "markdown",
      "metadata": {
        "id": "M7DTVgEAcZpT"
      },
      "source": [
        "A class needs to be instantiated if we want to use the class attributes in another class or method. A class can be instantiated by calling the class using the class name.\n",
        "\n",
        "The syntax to create the instance of the class is given below.\n",
        "\n",
        "\n",
        "```\n",
        "<object-name> = <class-name>(<arguments>)    \n",
        "```\n",
        "\n"
      ]
    },
    {
      "cell_type": "code",
      "metadata": {
        "id": "kVn5C_jCcs88",
        "colab": {
          "base_uri": "https://localhost:8080/"
        },
        "outputId": "0fe81667-6c67-4de5-832b-5a24895d9619"
      },
      "source": [
        "class book:\n",
        "    def __init__(self,name, price):\n",
        "        self.name = name\n",
        "        self.price = price\n",
        "    def display(self):\n",
        "        print(self.name,self.price)\n",
        "\n",
        "b1 = book(\"Machine-Learning\", 2020)\n",
        "b1.display()"
      ],
      "execution_count": null,
      "outputs": [
        {
          "output_type": "stream",
          "name": "stdout",
          "text": [
            "Machine-Learning 2020\n"
          ]
        }
      ]
    },
    {
      "cell_type": "markdown",
      "metadata": {
        "id": "udKtHN90eJmF"
      },
      "source": [
        "**Python Constructor**"
      ]
    },
    {
      "cell_type": "markdown",
      "metadata": {
        "id": "7dIwfXIZekhN"
      },
      "source": [
        "A constructor is a special type of method (function) which is used to initialize the instance members of the class.\n",
        "\n",
        "In C++ or Java, the constructor has the same name as its class, but it treats constructor differently in Python. It is used to create an object.\n",
        "\n",
        "Constructors can be of two types.\n",
        "\n",
        "\n",
        "1.   Parameterized Constructor\n",
        "2.   Non-parameterized Constructor\n",
        "\n",
        "Constructor definition is executed when we create the object of this class. Constructors also verify that there are enough resources for the object to perform any start-up task.\n",
        "\n"
      ]
    },
    {
      "cell_type": "markdown",
      "metadata": {
        "id": "iZh0EdDuhqns"
      },
      "source": [
        "**Creating the constructor in python**"
      ]
    },
    {
      "cell_type": "markdown",
      "metadata": {
        "id": "8grL6yeJhwWH"
      },
      "source": [
        "In Python, the method the __init__() simulates the constructor of the class. This method is called when the class is instantiated. It accepts the self-keyword as a first argument which allows accessing the attributes or method of the class.\n",
        "\n",
        "We can pass any number of arguments at the time of creating the class object, depending upon the __init__() definition. It is mostly used to initialize the class attributes. Every class must have a constructor, even if it simply relies on the default constructor.\n",
        "\n",
        "Consider the following example to initialize the Student class attributes."
      ]
    },
    {
      "cell_type": "code",
      "metadata": {
        "id": "sO0LdXWph383",
        "colab": {
          "base_uri": "https://localhost:8080/"
        },
        "outputId": "dd71b91f-8675-4507-9fbd-d3f76b19e999"
      },
      "source": [
        "class Student:\n",
        "    def __init__(self, name, id):\n",
        "        self.id = id\n",
        "        self.name = name\n",
        "\n",
        "    def display(self):\n",
        "        print(\"ID: %d \\nName: %s\" % (self.id, self.name))\n",
        "\n",
        "\n",
        "s1 = Student(\"Balwant\", 101)\n",
        "s2 = Student(\"Tanwar\", 102)\n",
        "\n",
        "# accessing display() method to print student 1 information\n",
        "\n",
        "s1.display()\n",
        "\n",
        "# accessing display() method to print student 2 information\n",
        "s2.display()"
      ],
      "execution_count": null,
      "outputs": [
        {
          "output_type": "stream",
          "name": "stdout",
          "text": [
            "ID: 101 \n",
            "Name: Balwant\n",
            "ID: 102 \n",
            "Name: Tanwar\n"
          ]
        }
      ]
    },
    {
      "cell_type": "markdown",
      "metadata": {
        "id": "GneDQCGfiUfh"
      },
      "source": [
        "**Counting the number of objects of a class**"
      ]
    },
    {
      "cell_type": "markdown",
      "metadata": {
        "id": "7NlZqCqHkB-j"
      },
      "source": [
        "The constructor is called automatically when we create the object of the class. Consider the following example."
      ]
    },
    {
      "cell_type": "code",
      "metadata": {
        "id": "_rRx4V7SkCrv",
        "colab": {
          "base_uri": "https://localhost:8080/"
        },
        "outputId": "110905d2-1bee-4a16-b117-3bba416c39d0"
      },
      "source": [
        "class Student:\n",
        "    count = 0\n",
        "    def __init__(self):\n",
        "        Student.count = Student.count + 1\n",
        "s1=Student()\n",
        "s2=Student()\n",
        "s3=Student()\n",
        "print(\"The number of students:\",Student.count)"
      ],
      "execution_count": null,
      "outputs": [
        {
          "output_type": "stream",
          "name": "stdout",
          "text": [
            "The number of students: 3\n"
          ]
        }
      ]
    },
    {
      "cell_type": "markdown",
      "metadata": {
        "id": "rzBYNzyHkJT2"
      },
      "source": [
        "**Python Non-Parameterized Constructor**"
      ]
    },
    {
      "cell_type": "markdown",
      "metadata": {
        "id": "gnl4miD_kPDg"
      },
      "source": [
        "The non-parameterized constructor uses when we do not want to manipulate the value or the constructor that has only self as an argument. Consider the following example."
      ]
    },
    {
      "cell_type": "code",
      "metadata": {
        "id": "j86NE1rokQwK",
        "colab": {
          "base_uri": "https://localhost:8080/"
        },
        "outputId": "c8029d21-48b0-4ba7-f0b6-d92dbd684c34"
      },
      "source": [
        "class Student:\n",
        "    # Constructor - non parameterized\n",
        "    def __init__(self):\n",
        "        print(\"This is non parametrized constructor\")\n",
        "    def show(self,name):\n",
        "        print(\"Hello\",name)\n",
        "student = Student()\n",
        "student.show(\"Balwant\")"
      ],
      "execution_count": null,
      "outputs": [
        {
          "output_type": "stream",
          "name": "stdout",
          "text": [
            "This is non parametrized constructor\n",
            "Hello Balwant\n"
          ]
        }
      ]
    },
    {
      "cell_type": "markdown",
      "metadata": {
        "id": "uFnoHBxWkZGd"
      },
      "source": [
        "**Python Parameterized Constructor**\n"
      ]
    },
    {
      "cell_type": "markdown",
      "metadata": {
        "id": "E2VixVnukcTe"
      },
      "source": [
        "The parameterized constructor has multiple parameters along with the self. Consider the following example."
      ]
    },
    {
      "cell_type": "code",
      "metadata": {
        "id": "9WjnwI4Eke1v",
        "colab": {
          "base_uri": "https://localhost:8080/"
        },
        "outputId": "5e53d1dc-a9ce-4ccf-db15-53c6e8c648d0"
      },
      "source": [
        "class Student:\n",
        "    # Constructor - parameterized\n",
        "    def __init__(self, name):\n",
        "        print(\"This is parametrized constructor\")\n",
        "        self.name = name\n",
        "    def show(self):\n",
        "        print(\"Hello\",self.name)\n",
        "student = Student(\"John\")\n",
        "student.show()"
      ],
      "execution_count": null,
      "outputs": [
        {
          "output_type": "stream",
          "name": "stdout",
          "text": [
            "This is parametrized constructor\n",
            "Hello John\n"
          ]
        }
      ]
    },
    {
      "cell_type": "markdown",
      "metadata": {
        "id": "c5pNbvB6kj41"
      },
      "source": [
        "**Python Default Constructor**"
      ]
    },
    {
      "cell_type": "markdown",
      "metadata": {
        "id": "VRhyHjcAkm6I"
      },
      "source": [
        "When we do not include the constructor in the class or forget to declare it, then that becomes the default constructor. It does not perform any task but initializes the objects. Consider the following example."
      ]
    },
    {
      "cell_type": "code",
      "metadata": {
        "id": "D7_UgipdkrDH",
        "colab": {
          "base_uri": "https://localhost:8080/"
        },
        "outputId": "d3444191-2a56-4315-acc4-717a91403a13"
      },
      "source": [
        "class Student:\n",
        "    roll_num = 101\n",
        "    name = \"Balwant\"\n",
        "\n",
        "    def display(self):\n",
        "        print(self.roll_num,self.name)\n",
        "\n",
        "st = Student()\n",
        "st.display()"
      ],
      "execution_count": null,
      "outputs": [
        {
          "output_type": "stream",
          "name": "stdout",
          "text": [
            "101 Balwant\n"
          ]
        }
      ]
    },
    {
      "cell_type": "markdown",
      "metadata": {
        "id": "WhmoGuxhpQyp"
      },
      "source": [
        "**More than One Constructor in Single class**"
      ]
    },
    {
      "cell_type": "code",
      "metadata": {
        "id": "1N2TLv3SpVyi",
        "colab": {
          "base_uri": "https://localhost:8080/"
        },
        "outputId": "08b3a019-22f5-4786-ad9d-a93e653210cb"
      },
      "source": [
        "class Student:\n",
        "    def __init__(self):\n",
        "        print(\"The First Constructor\")\n",
        "    def __init__(self):\n",
        "        print(\"The second contructor\")\n",
        "\n",
        "st = Student()"
      ],
      "execution_count": null,
      "outputs": [
        {
          "output_type": "stream",
          "name": "stdout",
          "text": [
            "The second contructor\n"
          ]
        }
      ]
    },
    {
      "cell_type": "markdown",
      "metadata": {
        "id": "f9pKcK0JpbI7"
      },
      "source": [
        "In the above code, the object st called the second constructor whereas both have the same configuration. The first method is not accessible by the st object. Internally, the object of the class will always call the last constructor if the class has multiple constructors."
      ]
    },
    {
      "cell_type": "markdown",
      "metadata": {
        "id": "CnKTY8IepdXO"
      },
      "source": [
        "**Note: The constructor overloading is not allowed in Python.**"
      ]
    },
    {
      "cell_type": "markdown",
      "metadata": {
        "id": "k2nMJYsEprZA"
      },
      "source": [
        "**Python Inheritance**"
      ]
    },
    {
      "cell_type": "markdown",
      "metadata": {
        "id": "Me4srdd84k-n"
      },
      "source": [
        "Inheritance is an important aspect of the object-oriented paradigm. Inheritance provides code reusability to the program because we can use an existing class to create a new class instead of creating it from scratch.\n",
        "\n",
        "In inheritance, the child class acquires the properties and can access all the data members and functions defined in the parent class. A child class can also provide its specific implementation to the functions of the parent class. In this section of the tutorial, we will discuss inheritance in detail.\n",
        "\n",
        "In python, a derived class can inherit base class by just mentioning the base in the bracket after the derived class name. Consider the following syntax to inherit a base class into the derived class."
      ]
    },
    {
      "cell_type": "markdown",
      "metadata": {
        "id": "8Tkzv3xf4mU8"
      },
      "source": [
        "\n",
        "\n",
        "!![Inheritance](https://drive.google.com/uc?export=view&id=1OrBVuH_599rhzHvaxdzHxlwNpmVIW3qb)\n",
        "```\n",
        "class derived-class(base class):  \n",
        "    <class-suite>\n",
        "```\n",
        "A class can inherit multiple classes by mentioning all of them inside the bracket. Consider the following syntax.\n",
        "\n",
        "\n",
        "```\n",
        "class derive-class(<base class 1>, <base class 2>, ..... <base class n>):  \n",
        "    <class - suite>   \n",
        "```\n",
        "\n",
        "\n"
      ]
    },
    {
      "cell_type": "code",
      "metadata": {
        "id": "jFpjJH7O-RYt",
        "colab": {
          "base_uri": "https://localhost:8080/",
          "height": 51
        },
        "outputId": "8372be63-a521-4973-fc3a-5f003e117490"
      },
      "source": [
        "class Animal:\n",
        "    def speak(self):\n",
        "        print(\"Animal Speaking\")\n",
        "#child class Dog inherits the base class Animal\n",
        "class Dog(Animal):\n",
        "    def bark(self):\n",
        "        print(\"dog barking\")\n",
        "d = Dog()\n",
        "d.bark()\n",
        "d.speak()"
      ],
      "execution_count": null,
      "outputs": [
        {
          "output_type": "stream",
          "text": [
            "dog barking\n",
            "Animal Speaking\n"
          ],
          "name": "stdout"
        }
      ]
    },
    {
      "cell_type": "markdown",
      "metadata": {
        "id": "lCgQWXDQ-Zic"
      },
      "source": [
        "**Python Multi-Level inheritance**"
      ]
    },
    {
      "cell_type": "markdown",
      "metadata": {
        "id": "U0AYCAyM-cbL"
      },
      "source": [
        "Multi-Level inheritance is possible in python like other object-oriented languages. Multi-level inheritance is archived when a derived class inherits another derived class. There is no limit on the number of levels up to which, the multi-level inheritance is archived in python.\n",
        "!![Inheritance](https://drive.google.com/uc?export=view&id=17OZWBiEZbnh6eJe4VEWrhLlIO4KuvbCY)\n",
        "\n",
        "**Syntex**\n",
        "\n",
        "```\n",
        "class class1:  \n",
        "    <class-suite>   \n",
        "class class2(class1):  \n",
        "    <class suite>  \n",
        "class class3(class2):  \n",
        "    <class suite>  \n",
        ".  \n",
        ".  \n",
        "```\n",
        "\n",
        "\n",
        "\n"
      ]
    },
    {
      "cell_type": "code",
      "metadata": {
        "id": "qVtXQ9mU-yTd",
        "colab": {
          "base_uri": "https://localhost:8080/"
        },
        "outputId": "77fbb6bd-ef03-4de5-c464-99713d6e65d4"
      },
      "source": [
        "class Animal:\n",
        "    def speak(self):\n",
        "        print(\"Animal Speaking\")\n",
        "#The child class Dog inherits the base class Animal\n",
        "class Dog(Animal):\n",
        "    def bark(self):\n",
        "        print(\"dog barking\")\n",
        "#The child class Dogchild inherits another child class Dog\n",
        "class DogChild(Dog):\n",
        "    def eat(self):\n",
        "        print(\"Eating bread...\")\n",
        "d = DogChild()\n",
        "d.bark()\n",
        "d.speak()\n",
        "d.eat()"
      ],
      "execution_count": null,
      "outputs": [
        {
          "output_type": "stream",
          "name": "stdout",
          "text": [
            "dog barking\n",
            "Animal Speaking\n",
            "Eating bread...\n"
          ]
        }
      ]
    },
    {
      "cell_type": "markdown",
      "metadata": {
        "id": "KGKu_HDJ-5T1"
      },
      "source": [
        "**Python Multiple inheritance**"
      ]
    },
    {
      "cell_type": "markdown",
      "metadata": {
        "id": "a1A3iQ2u-7ix"
      },
      "source": [
        "Python provides us the flexibility to inherit multiple base classes in the child class.\n",
        "\n",
        "image\n",
        "\n",
        "**Syntax**\n",
        "\n",
        "\n",
        "```\n",
        "class Base1:  \n",
        "    <class-suite>  \n",
        "  \n",
        "class Base2:  \n",
        "    <class-suite>  \n",
        ".  \n",
        ".  \n",
        ".  \n",
        "class BaseN:  \n",
        "    <class-suite>  \n",
        "  \n",
        "class Derived(Base1, Base2, ...... BaseN):  \n",
        "    <class-suite>  \n",
        "```\n",
        "\n",
        "!![Inheritance](https://drive.google.com/uc?export=view&id=14_jP-PXJiyBc-2lQADbu252YRFCq8sLH)\n"
      ]
    },
    {
      "cell_type": "code",
      "metadata": {
        "id": "m-G_wH5__JpV",
        "colab": {
          "base_uri": "https://localhost:8080/"
        },
        "outputId": "f3417624-3d99-4e38-ce98-cb99b9621f24"
      },
      "source": [
        "class Calculation1:\n",
        "    def Summation(self,a,b):\n",
        "        return a+b;\n",
        "class Calculation2:\n",
        "    def Multiplication(self,a,b):\n",
        "        return a*b;\n",
        "class Derived(Calculation1,Calculation2):\n",
        "    def Divide(self,a,b):\n",
        "        return a/b;\n",
        "d = Derived()\n",
        "print(d.Summation(10,20))\n",
        "print(d.Multiplication(10,20))\n",
        "print(d.Divide(10,20))"
      ],
      "execution_count": null,
      "outputs": [
        {
          "output_type": "stream",
          "name": "stdout",
          "text": [
            "30\n",
            "200\n",
            "0.5\n"
          ]
        }
      ]
    },
    {
      "cell_type": "markdown",
      "metadata": {
        "id": "OuCS41-z_UQu"
      },
      "source": [
        "**The issubclass(sub,sup) method**"
      ]
    },
    {
      "cell_type": "markdown",
      "metadata": {
        "id": "-Sv53J_K_Zmf"
      },
      "source": [
        "The issubclass(sub, sup) method is used to check the relationships between the specified classes. It returns true if the first class is the subclass of the second class, and false otherwise.\n",
        "\n",
        "Consider the following example."
      ]
    },
    {
      "cell_type": "code",
      "metadata": {
        "id": "gBRT2U-z_cjy",
        "colab": {
          "base_uri": "https://localhost:8080/"
        },
        "outputId": "ced0a9d2-1028-44e6-8faf-f14d8f1be11e"
      },
      "source": [
        "class Calculation1:\n",
        "    def Summation(self,a,b):\n",
        "        return a+b;\n",
        "class Calculation2:\n",
        "    def Multiplication(self,a,b):\n",
        "        return a*b;\n",
        "class Derived(Calculation1,Calculation2):\n",
        "    def Divide(self,a,b):\n",
        "        return a/b;\n",
        "d = Derived()\n",
        "print(issubclass(Derived,Calculation2))\n",
        "print(issubclass(Calculation1,Calculation2))"
      ],
      "execution_count": null,
      "outputs": [
        {
          "output_type": "stream",
          "name": "stdout",
          "text": [
            "True\n",
            "False\n"
          ]
        }
      ]
    },
    {
      "cell_type": "markdown",
      "metadata": {
        "id": "nAVZeavr_mJ3"
      },
      "source": [
        "**The isinstance (obj, class) method**"
      ]
    },
    {
      "cell_type": "markdown",
      "metadata": {
        "id": "1xfKwQgn_ocb"
      },
      "source": [
        "The isinstance() method is used to check the relationship between the objects and classes. It returns true if the first parameter, i.e., obj is the instance of the second parameter, i.e., class.\n",
        "\n",
        "Consider the following example."
      ]
    },
    {
      "cell_type": "code",
      "metadata": {
        "id": "rnscmnwb_sBg",
        "colab": {
          "base_uri": "https://localhost:8080/"
        },
        "outputId": "5e13cc8e-063b-4cef-90c7-590ac45734e5"
      },
      "source": [
        "class Calculation1:\n",
        "    def Summation(self,a,b):\n",
        "        return a+b;\n",
        "class Calculation2:\n",
        "    def Multiplication(self,a,b):\n",
        "        return a*b;\n",
        "class Derived(Calculation1,Calculation2):\n",
        "    def Divide(self,a,b):\n",
        "        return a/b;\n",
        "d = Derived()\n",
        "print(isinstance(d,Derived))"
      ],
      "execution_count": null,
      "outputs": [
        {
          "output_type": "stream",
          "name": "stdout",
          "text": [
            "True\n"
          ]
        }
      ]
    },
    {
      "cell_type": "markdown",
      "metadata": {
        "id": "qcE6HiUu_yU-"
      },
      "source": [
        "**Method Overriding**"
      ]
    },
    {
      "cell_type": "markdown",
      "metadata": {
        "id": "atXV1joQ_00g"
      },
      "source": [
        "We can provide some specific implementation of the parent class method in our child class. When the parent class method is defined in the child class with some specific implementation, then the concept is called method overriding. We may need to perform method overriding in the scenario where the different definition of a parent class method is needed in the child class.\n",
        "\n",
        "Consider the following example to perform method overriding in python."
      ]
    },
    {
      "cell_type": "code",
      "metadata": {
        "id": "VjZQ68Ij_3fx",
        "colab": {
          "base_uri": "https://localhost:8080/"
        },
        "outputId": "c1bb29e0-fd0a-406d-aef3-9639dd428b17"
      },
      "source": [
        "class Animal:\n",
        "    def speak(self):\n",
        "        print(\"speaking\")\n",
        "class Dog(Animal):\n",
        "    def speak(self):\n",
        "        print(\"Barking\")\n",
        "d = Dog()\n",
        "d.speak()"
      ],
      "execution_count": null,
      "outputs": [
        {
          "output_type": "stream",
          "name": "stdout",
          "text": [
            "Barking\n"
          ]
        }
      ]
    },
    {
      "cell_type": "markdown",
      "metadata": {
        "id": "WIALRvsEABHF"
      },
      "source": [
        "**Real Life Example of method overriding**"
      ]
    },
    {
      "cell_type": "code",
      "metadata": {
        "id": "J9RrFYZVBpB3",
        "colab": {
          "base_uri": "https://localhost:8080/"
        },
        "outputId": "6f60b8a4-3866-475a-870d-d22a40c6465c"
      },
      "source": [
        "class Bank:\n",
        "    def getroi(self):\n",
        "        return 10;\n",
        "class SBI(Bank):\n",
        "    def getroi(self):\n",
        "        return 7;\n",
        "\n",
        "class ICICI(Bank):\n",
        "    def getroi(self):\n",
        "        return 8;\n",
        "b1 = Bank()\n",
        "b2 = SBI()\n",
        "b3 = ICICI()\n",
        "print(\"Bank Rate of interest:\",b1.getroi());\n",
        "print(\"SBI Rate of interest:\",b2.getroi());\n",
        "print(\"ICICI Rate of interest:\",b3.getroi());"
      ],
      "execution_count": null,
      "outputs": [
        {
          "output_type": "stream",
          "name": "stdout",
          "text": [
            "Bank Rate of interest: 10\n",
            "SBI Rate of interest: 7\n",
            "ICICI Rate of interest: 8\n"
          ]
        }
      ]
    }
  ]
}